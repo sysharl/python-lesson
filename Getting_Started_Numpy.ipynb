{
 "cells": [
  {
   "cell_type": "code",
   "execution_count": 1,
   "id": "e3fe5a2d-74a1-4493-a26a-1ce7f22b0ba3",
   "metadata": {},
   "outputs": [],
   "source": [
    "import numpy as np"
   ]
  },
  {
   "cell_type": "code",
   "execution_count": 2,
   "id": "81d3586a-168a-49bd-9752-4e13bf702838",
   "metadata": {},
   "outputs": [],
   "source": [
    "integers = np.array([10,20,30,40,50])"
   ]
  },
  {
   "cell_type": "code",
   "execution_count": 3,
   "id": "8f234b83-e4b3-4299-b6dc-7dded7d4d845",
   "metadata": {},
   "outputs": [
    {
     "data": {
      "text/plain": [
       "10"
      ]
     },
     "execution_count": 3,
     "metadata": {},
     "output_type": "execute_result"
    }
   ],
   "source": [
    "integers[0]"
   ]
  },
  {
   "cell_type": "code",
   "execution_count": 6,
   "id": "ab9870db-d4d4-48a8-8952-b2c5c3b86da4",
   "metadata": {},
   "outputs": [
    {
     "data": {
      "text/plain": [
       "array([10, 60, 30, 40, 50])"
      ]
     },
     "execution_count": 6,
     "metadata": {},
     "output_type": "execute_result"
    }
   ],
   "source": [
    "integers[1]=60\n",
    "integers"
   ]
  },
  {
   "cell_type": "code",
   "execution_count": 7,
   "id": "e2aeb2bb-7796-4b53-8757-01b00824aaec",
   "metadata": {},
   "outputs": [
    {
     "data": {
      "text/plain": [
       "dtype('int32')"
      ]
     },
     "execution_count": 7,
     "metadata": {},
     "output_type": "execute_result"
    }
   ],
   "source": [
    "integers.dtype"
   ]
  },
  {
   "cell_type": "code",
   "execution_count": 8,
   "id": "7bd84830-262e-4bec-8954-6da45ff90efd",
   "metadata": {},
   "outputs": [
    {
     "data": {
      "text/plain": [
       "array([10, 60, 30, 40, 50], dtype=int8)"
      ]
     },
     "execution_count": 8,
     "metadata": {},
     "output_type": "execute_result"
    }
   ],
   "source": [
    "smallerType = np.array(integers,dtype=np.int8)\n",
    "smallerType"
   ]
  },
  {
   "cell_type": "markdown",
   "id": "64d02a74-12f6-4404-a7e0-261daf9811e9",
   "metadata": {},
   "source": [
    "## Multidimensional arrays"
   ]
  },
  {
   "cell_type": "code",
   "execution_count": 10,
   "id": "834ade41-2b23-43f9-b689-f9fe4ea99661",
   "metadata": {},
   "outputs": [],
   "source": [
    "numbers = np.array([[0,2,3,4,5],[6,7,8,9,10]])"
   ]
  },
  {
   "cell_type": "code",
   "execution_count": 11,
   "id": "a55fabf0-b15c-45cb-acca-a010126ed08f",
   "metadata": {},
   "outputs": [
    {
     "data": {
      "text/plain": [
       "array([[ 0,  2,  3,  4,  5],\n",
       "       [ 6,  7,  8,  9, 10]])"
      ]
     },
     "execution_count": 11,
     "metadata": {},
     "output_type": "execute_result"
    }
   ],
   "source": [
    "numbers"
   ]
  },
  {
   "cell_type": "code",
   "execution_count": 12,
   "id": "2244b81c-7670-462d-8b75-9f00792096a8",
   "metadata": {},
   "outputs": [
    {
     "data": {
      "text/plain": [
       "2"
      ]
     },
     "execution_count": 12,
     "metadata": {},
     "output_type": "execute_result"
    }
   ],
   "source": [
    "numbers.ndim"
   ]
  },
  {
   "cell_type": "code",
   "execution_count": 13,
   "id": "1018fabd-8475-41d4-99e5-e60520bb5adf",
   "metadata": {},
   "outputs": [
    {
     "data": {
      "text/plain": [
       "9"
      ]
     },
     "execution_count": 13,
     "metadata": {},
     "output_type": "execute_result"
    }
   ],
   "source": [
    "numbers[1,3]"
   ]
  },
  {
   "cell_type": "code",
   "execution_count": 15,
   "id": "df737ec0-9840-4b8d-a5e1-c5bacea4963a",
   "metadata": {},
   "outputs": [
    {
     "data": {
      "text/plain": [
       "array([[[ 0,  2,  3],\n",
       "        [ 4,  5,  6]],\n",
       "\n",
       "       [[ 6,  7,  8],\n",
       "        [ 9, 10, 11]]])"
      ]
     },
     "execution_count": 15,
     "metadata": {},
     "output_type": "execute_result"
    }
   ],
   "source": [
    "multi_numbers = np.array([[[0,2,3],[4,5,6]],[[6,7,8],[9,10,11]]])\n",
    "multi_numbers"
   ]
  },
  {
   "cell_type": "code",
   "execution_count": 16,
   "id": "7edbb5c6-0b41-49cb-b67d-8334e3818684",
   "metadata": {},
   "outputs": [
    {
     "data": {
      "text/plain": [
       "6"
      ]
     },
     "execution_count": 16,
     "metadata": {},
     "output_type": "execute_result"
    }
   ],
   "source": [
    "multi_numbers[0,1,2]"
   ]
  },
  {
   "cell_type": "markdown",
   "id": "ab37a2b4-b765-46a1-a553-b2efaa1ee848",
   "metadata": {},
   "source": [
    "## Creating arrays from List and other python structures"
   ]
  },
  {
   "cell_type": "code",
   "execution_count": 18,
   "id": "d7e2ebcf-c394-411c-ad5e-7904f0be245f",
   "metadata": {},
   "outputs": [
    {
     "data": {
      "text/plain": [
       "array([0, 1, 2, 3, 4, 5, 6, 7])"
      ]
     },
     "execution_count": 18,
     "metadata": {},
     "output_type": "execute_result"
    }
   ],
   "source": [
    "python_list = [0,1,2,3,4,5,6,7]\n",
    "n_arrs = np.array(python_list)\n",
    "n_arrs"
   ]
  },
  {
   "cell_type": "code",
   "execution_count": 19,
   "id": "b5181622-a6e2-4419-9afa-cb7f882778d8",
   "metadata": {},
   "outputs": [
    {
     "data": {
      "text/plain": [
       "array([0.    , 1.0223, 2.23  , 3.45  , 4.6   , 5.    , 6.    , 7.    ])"
      ]
     },
     "execution_count": 19,
     "metadata": {},
     "output_type": "execute_result"
    }
   ],
   "source": [
    "python_list_decimal = [0,1.0223,2.23,3.45,4.6,5,6,7]\n",
    "n_arrs_float = np.array(python_list_decimal)\n",
    "n_arrs_float"
   ]
  },
  {
   "cell_type": "code",
   "execution_count": 20,
   "id": "26e445f2-019a-457b-8d08-a9c510f2e7c3",
   "metadata": {},
   "outputs": [
    {
     "data": {
      "text/plain": [
       "dtype('float64')"
      ]
     },
     "execution_count": 20,
     "metadata": {},
     "output_type": "execute_result"
    }
   ],
   "source": [
    "n_arrs_float.dtype"
   ]
  },
  {
   "cell_type": "code",
   "execution_count": 21,
   "id": "ee1c0da8-45d4-450f-88d9-f36497142dcc",
   "metadata": {},
   "outputs": [
    {
     "data": {
      "text/plain": [
       "array(['Anne', '123123', 'Willy', '1231'], dtype='<U11')"
      ]
     },
     "execution_count": 21,
     "metadata": {},
     "output_type": "execute_result"
    }
   ],
   "source": [
    "list_mixed = ['Anne',123123,'Willy',1231]\n",
    "list_mixed_np = np.array(list_mixed)\n",
    "list_mixed_np"
   ]
  },
  {
   "cell_type": "code",
   "execution_count": 22,
   "id": "569c00ff-3965-42a7-b119-c7628711bdb2",
   "metadata": {},
   "outputs": [
    {
     "data": {
      "text/plain": [
       "array([1, 2, 3, 4])"
      ]
     },
     "execution_count": 22,
     "metadata": {},
     "output_type": "execute_result"
    }
   ],
   "source": [
    "tuple_array = (1,2,3,4)\n",
    "tuple_array_np = np.array(tuple_array)\n",
    "tuple_array_np"
   ]
  },
  {
   "cell_type": "markdown",
   "id": "3a816e3d-3c63-4664-a2da-843d49384581",
   "metadata": {},
   "source": [
    "## Instrisic NumPy Array Creation"
   ]
  },
  {
   "cell_type": "code",
   "execution_count": 23,
   "id": "3c755427-5405-4aab-91cf-d0da1683dfe1",
   "metadata": {},
   "outputs": [
    {
     "data": {
      "text/plain": [
       "array([0, 1, 2, 3, 4, 5, 6, 7, 8, 9])"
      ]
     },
     "execution_count": 23,
     "metadata": {},
     "output_type": "execute_result"
    }
   ],
   "source": [
    "np.arange(10)"
   ]
  },
  {
   "cell_type": "code",
   "execution_count": 24,
   "id": "debc6ee5-6ae6-4c27-8c6b-19de60407dd1",
   "metadata": {},
   "outputs": [
    {
     "data": {
      "text/plain": [
       "array([10, 11, 12, 13, 14, 15, 16, 17, 18, 19])"
      ]
     },
     "execution_count": 24,
     "metadata": {},
     "output_type": "execute_result"
    }
   ],
   "source": [
    "np.arange(10,20)"
   ]
  },
  {
   "cell_type": "code",
   "execution_count": 25,
   "id": "ff965c7c-f918-4ed2-bfd0-e227faeac111",
   "metadata": {},
   "outputs": [
    {
     "data": {
      "text/plain": [
       "array([100, 105, 110, 115, 120, 125, 130, 135, 140, 145, 150, 155, 160,\n",
       "       165, 170, 175, 180, 185, 190, 195])"
      ]
     },
     "execution_count": 25,
     "metadata": {},
     "output_type": "execute_result"
    }
   ],
   "source": [
    "np.arange(100,200,5)"
   ]
  },
  {
   "cell_type": "code",
   "execution_count": 27,
   "id": "1942bd9c-9bfb-4acd-a665-6b258e911a37",
   "metadata": {},
   "outputs": [
    {
     "data": {
      "text/plain": [
       "array([100.        , 102.04081633, 104.08163265, 106.12244898,\n",
       "       108.16326531, 110.20408163, 112.24489796, 114.28571429,\n",
       "       116.32653061, 118.36734694, 120.40816327, 122.44897959,\n",
       "       124.48979592, 126.53061224, 128.57142857, 130.6122449 ,\n",
       "       132.65306122, 134.69387755, 136.73469388, 138.7755102 ,\n",
       "       140.81632653, 142.85714286, 144.89795918, 146.93877551,\n",
       "       148.97959184, 151.02040816, 153.06122449, 155.10204082,\n",
       "       157.14285714, 159.18367347, 161.2244898 , 163.26530612,\n",
       "       165.30612245, 167.34693878, 169.3877551 , 171.42857143,\n",
       "       173.46938776, 175.51020408, 177.55102041, 179.59183673,\n",
       "       181.63265306, 183.67346939, 185.71428571, 187.75510204,\n",
       "       189.79591837, 191.83673469, 193.87755102, 195.91836735,\n",
       "       197.95918367, 200.        ])"
      ]
     },
     "execution_count": 27,
     "metadata": {},
     "output_type": "execute_result"
    }
   ],
   "source": [
    "np.linspace(100,200) # default 50 samples"
   ]
  },
  {
   "cell_type": "code",
   "execution_count": 26,
   "id": "7ef0a97b-113b-4a00-8876-ca50016c5a8d",
   "metadata": {},
   "outputs": [
    {
     "data": {
      "text/plain": [
       "array([100., 125., 150., 175., 200.])"
      ]
     },
     "execution_count": 26,
     "metadata": {},
     "output_type": "execute_result"
    }
   ],
   "source": [
    "np.linspace(100,200,5)"
   ]
  },
  {
   "cell_type": "code",
   "execution_count": 28,
   "id": "289345d2-3c28-4688-b582-5d2d0553e722",
   "metadata": {},
   "outputs": [
    {
     "data": {
      "text/plain": [
       "array([0.0842162 , 0.35438541, 0.78069307, 0.82803767, 0.81093213,\n",
       "       0.38391178, 0.03609245, 0.65903862, 0.60994521, 0.64680153])"
      ]
     },
     "execution_count": 28,
     "metadata": {},
     "output_type": "execute_result"
    }
   ],
   "source": [
    "np.random.rand(10)"
   ]
  },
  {
   "cell_type": "code",
   "execution_count": 31,
   "id": "7b5e16ad-f923-4f9c-803d-76c376018fe5",
   "metadata": {},
   "outputs": [
    {
     "data": {
      "text/plain": [
       "array([[0.69086816, 0.84743949, 0.86341481],\n",
       "       [0.94034062, 0.98273766, 0.77732415],\n",
       "       [0.7258863 , 0.27135535, 0.24642048],\n",
       "       [0.19948074, 0.08577378, 0.10251656],\n",
       "       [0.91153425, 0.36774935, 0.771344  ],\n",
       "       [0.05709599, 0.21566515, 0.86277347],\n",
       "       [0.27564357, 0.97072312, 0.37970083],\n",
       "       [0.07100105, 0.06551816, 0.92717701],\n",
       "       [0.45937494, 0.89479487, 0.93908606],\n",
       "       [0.73581878, 0.87521297, 0.74726981]])"
      ]
     },
     "execution_count": 31,
     "metadata": {},
     "output_type": "execute_result"
    }
   ],
   "source": [
    "np.random.rand(10,3) # multi-dimensional"
   ]
  },
  {
   "cell_type": "code",
   "execution_count": 32,
   "id": "486b7a4d-daf5-416f-9ba2-27b25ad0388f",
   "metadata": {},
   "outputs": [
    {
     "data": {
      "text/plain": [
       "array([23,  8,  5, 10, 56, 30, 46, 81,  5, 77, 66,  0, 55,  0,  2, 96, 95,\n",
       "        4,  1, 78])"
      ]
     },
     "execution_count": 32,
     "metadata": {},
     "output_type": "execute_result"
    }
   ],
   "source": [
    "np.random.randint(low=0,high=100,size=20)"
   ]
  },
  {
   "cell_type": "markdown",
   "id": "d9dc2d1c-3689-40f1-95e1-2553101899e1",
   "metadata": {},
   "source": [
    "## Generate filled constant value arrays"
   ]
  },
  {
   "cell_type": "code",
   "execution_count": 34,
   "id": "cb75a173-9a85-4e62-bc82-9392ba09e07b",
   "metadata": {},
   "outputs": [
    {
     "data": {
      "text/plain": [
       "array([0., 0., 0., 0., 0.])"
      ]
     },
     "execution_count": 34,
     "metadata": {},
     "output_type": "execute_result"
    }
   ],
   "source": [
    "np.zeros(5)"
   ]
  },
  {
   "cell_type": "code",
   "execution_count": 36,
   "id": "59a53e7b-d9a7-456a-825a-1d1747c3c365",
   "metadata": {},
   "outputs": [
    {
     "data": {
      "text/plain": [
       "array([[0., 0., 0., 0., 0., 0., 0., 0., 0., 0.],\n",
       "       [0., 0., 0., 0., 0., 0., 0., 0., 0., 0.],\n",
       "       [0., 0., 0., 0., 0., 0., 0., 0., 0., 0.],\n",
       "       [0., 0., 0., 0., 0., 0., 0., 0., 0., 0.],\n",
       "       [0., 0., 0., 0., 0., 0., 0., 0., 0., 0.]])"
      ]
     },
     "execution_count": 36,
     "metadata": {},
     "output_type": "execute_result"
    }
   ],
   "source": [
    "np.zeros((5,10))"
   ]
  },
  {
   "cell_type": "code",
   "execution_count": 37,
   "id": "be3ab030-bf30-49c5-9f9b-d1e7fef37484",
   "metadata": {},
   "outputs": [
    {
     "data": {
      "text/plain": [
       "array([1., 1., 1., 1., 1., 1., 1., 1., 1., 1.])"
      ]
     },
     "execution_count": 37,
     "metadata": {},
     "output_type": "execute_result"
    }
   ],
   "source": [
    "np.ones(10)"
   ]
  },
  {
   "cell_type": "code",
   "execution_count": 39,
   "id": "c0a7b723-b630-45a6-94ed-0d94a4eedc5e",
   "metadata": {},
   "outputs": [
    {
     "data": {
      "text/plain": [
       "array([[1., 1., 1., 1., 1.],\n",
       "       [1., 1., 1., 1., 1.]])"
      ]
     },
     "execution_count": 39,
     "metadata": {},
     "output_type": "execute_result"
    }
   ],
   "source": [
    "np.ones((2,5))"
   ]
  },
  {
   "cell_type": "code",
   "execution_count": 40,
   "id": "14ecc35d-8e78-4aaa-a272-23914fe0758a",
   "metadata": {},
   "outputs": [
    {
     "data": {
      "text/plain": [
       "array([[1, 1, 1, 1, 1],\n",
       "       [1, 1, 1, 1, 1]])"
      ]
     },
     "execution_count": 40,
     "metadata": {},
     "output_type": "execute_result"
    }
   ],
   "source": [
    "np.ones((2,5), dtype=int)"
   ]
  },
  {
   "cell_type": "code",
   "execution_count": 42,
   "id": "839c3492-b073-497d-a1b0-ac01913acf25",
   "metadata": {},
   "outputs": [
    {
     "data": {
      "text/plain": [
       "array([12., 12., 12., 12., 12.])"
      ]
     },
     "execution_count": 42,
     "metadata": {},
     "output_type": "execute_result"
    }
   ],
   "source": [
    "empty_array = np.empty(5)\n",
    "empty_array.fill(12) # one dimension\n",
    "empty_array"
   ]
  },
  {
   "cell_type": "code",
   "execution_count": 43,
   "id": "5662aefa-ace2-43e2-bbe9-0b44dc37fd1e",
   "metadata": {},
   "outputs": [
    {
     "data": {
      "text/plain": [
       "array([10, 10, 10, 10, 10])"
      ]
     },
     "execution_count": 43,
     "metadata": {},
     "output_type": "execute_result"
    }
   ],
   "source": [
    "np.full(5,10) # multi dimension"
   ]
  },
  {
   "cell_type": "code",
   "execution_count": 47,
   "id": "141bab36-169f-450b-b47e-218189edfec1",
   "metadata": {},
   "outputs": [
    {
     "data": {
      "text/plain": [
       "array([[[10, 10, 10],\n",
       "        [10, 10, 10],\n",
       "        [10, 10, 10],\n",
       "        [10, 10, 10],\n",
       "        [10, 10, 10]],\n",
       "\n",
       "       [[10, 10, 10],\n",
       "        [10, 10, 10],\n",
       "        [10, 10, 10],\n",
       "        [10, 10, 10],\n",
       "        [10, 10, 10]]])"
      ]
     },
     "execution_count": 47,
     "metadata": {},
     "output_type": "execute_result"
    }
   ],
   "source": [
    "np.full((2,5,3),10)"
   ]
  },
  {
   "cell_type": "code",
   "execution_count": 45,
   "id": "2a8e9571-94e6-4c17-9c33-1c917fd6d56a",
   "metadata": {},
   "outputs": [
    {
     "data": {
      "text/plain": [
       "(10,)"
      ]
     },
     "execution_count": 45,
     "metadata": {},
     "output_type": "execute_result"
    }
   ],
   "source": [
    "np.shape(np.ones(10))"
   ]
  },
  {
   "cell_type": "code",
   "execution_count": 49,
   "id": "801a95ab-b072-4396-8994-b8670af3fa06",
   "metadata": {},
   "outputs": [
    {
     "data": {
      "text/plain": [
       "30"
      ]
     },
     "execution_count": 49,
     "metadata": {},
     "output_type": "execute_result"
    }
   ],
   "source": [
    "np.size(np.full((1,5,6),10))"
   ]
  },
  {
   "cell_type": "markdown",
   "id": "db905e5a-73d1-4c8c-93d3-483393947493",
   "metadata": {},
   "source": [
    "## Adding, removing, and sorting elements"
   ]
  },
  {
   "cell_type": "code",
   "execution_count": 54,
   "id": "476da6a9-f213-4d8f-a5ad-fa0caaee45b7",
   "metadata": {},
   "outputs": [],
   "source": [
    "main_array = np.array([1,3,5,6])"
   ]
  },
  {
   "cell_type": "code",
   "execution_count": 60,
   "id": "27e4a537-bc45-4114-a992-8d56fced35de",
   "metadata": {},
   "outputs": [
    {
     "data": {
      "text/plain": [
       "array([1, 2, 3, 5, 6])"
      ]
     },
     "execution_count": 60,
     "metadata": {},
     "output_type": "execute_result"
    }
   ],
   "source": [
    "np.insert(main_array,1,values=2) "
   ]
  },
  {
   "cell_type": "code",
   "execution_count": 61,
   "id": "605e2297-f116-4593-9965-7381ce4cf3fc",
   "metadata": {},
   "outputs": [],
   "source": [
    "second_array=np.array([7,8,9,10])"
   ]
  },
  {
   "cell_type": "code",
   "execution_count": 62,
   "id": "ae7c5af2-d060-4cf1-a3f8-f08193ea6c03",
   "metadata": {},
   "outputs": [
    {
     "data": {
      "text/plain": [
       "array([ 1,  3,  5,  6,  7,  8,  9, 10])"
      ]
     },
     "execution_count": 62,
     "metadata": {},
     "output_type": "execute_result"
    }
   ],
   "source": [
    "np.append(main_array,second_array)"
   ]
  },
  {
   "cell_type": "code",
   "execution_count": 66,
   "id": "f5fc26f4-9080-4b0f-9a95-7a6ce2f6293b",
   "metadata": {},
   "outputs": [
    {
     "data": {
      "text/plain": [
       "array([1, 2, 3, 4, 5, 6])"
      ]
     },
     "execution_count": 66,
     "metadata": {},
     "output_type": "execute_result"
    }
   ],
   "source": [
    "one_array=np.array([1,2,1,3,4,5,6])\n",
    "np.delete(one_array,2)"
   ]
  },
  {
   "cell_type": "code",
   "execution_count": 67,
   "id": "b5a7f903-b5be-4dc6-a9e3-7a6757b0df2b",
   "metadata": {},
   "outputs": [
    {
     "data": {
      "text/plain": [
       "array([27, 26, 29, 28, 21])"
      ]
     },
     "execution_count": 67,
     "metadata": {},
     "output_type": "execute_result"
    }
   ],
   "source": [
    "inte_array = np.random.randint(20,30,5)\n",
    "inte_array"
   ]
  },
  {
   "cell_type": "code",
   "execution_count": 68,
   "id": "950c50ce-afbb-4a02-a94e-43af40db0ed4",
   "metadata": {},
   "outputs": [
    {
     "data": {
      "text/plain": [
       "array([21, 26, 27, 28, 29])"
      ]
     },
     "execution_count": 68,
     "metadata": {},
     "output_type": "execute_result"
    }
   ],
   "source": [
    "np.sort(inte_array)"
   ]
  },
  {
   "cell_type": "code",
   "execution_count": 76,
   "id": "38be6037-7180-4f37-b268-33675e8644c1",
   "metadata": {},
   "outputs": [
    {
     "data": {
      "text/plain": [
       "array([[23, 20, 21, 23, 24],\n",
       "       [22, 28, 29, 27, 26]])"
      ]
     },
     "execution_count": 76,
     "metadata": {},
     "output_type": "execute_result"
    }
   ],
   "source": [
    "first_array = np.random.randint(20,30,5)\n",
    "second_array = np.random.randint(20,30,5)\n",
    "d_mess = np.array([first_array,second_array])\n",
    "d_mess"
   ]
  },
  {
   "cell_type": "code",
   "execution_count": 141,
   "id": "bb2eb9b5-4550-4e05-add0-4a26cd6000c5",
   "metadata": {},
   "outputs": [
    {
     "data": {
      "text/plain": [
       "numpy.ndarray"
      ]
     },
     "execution_count": 141,
     "metadata": {},
     "output_type": "execute_result"
    }
   ],
   "source": [
    "type(first_array)"
   ]
  },
  {
   "cell_type": "code",
   "execution_count": 77,
   "id": "c3b26990-6f95-4966-bca5-95087d397283",
   "metadata": {},
   "outputs": [
    {
     "data": {
      "text/plain": [
       "array([[20, 21, 23, 23, 24],\n",
       "       [22, 26, 27, 28, 29]])"
      ]
     },
     "execution_count": 77,
     "metadata": {},
     "output_type": "execute_result"
    }
   ],
   "source": [
    "np.sort(d_mess)"
   ]
  },
  {
   "cell_type": "markdown",
   "id": "2b6351c0-e948-429c-9f6d-62bf8e9ac984",
   "metadata": {},
   "source": [
    "## Copying vs Views"
   ]
  },
  {
   "cell_type": "code",
   "execution_count": 79,
   "id": "78e7d292-054c-4a97-a188-20734b1eddff",
   "metadata": {},
   "outputs": [
    {
     "data": {
      "text/plain": [
       "array([ 968,  944,  281,  235,  957, 1096,  163,  665,  391,  786])"
      ]
     },
     "execution_count": 79,
     "metadata": {},
     "output_type": "execute_result"
    }
   ],
   "source": [
    "random_numbers = np.random.randint(120,1230,10)\n",
    "random_numbers"
   ]
  },
  {
   "cell_type": "code",
   "execution_count": 81,
   "id": "0003ee4a-e4f2-4ed2-9efd-c0960276aac1",
   "metadata": {},
   "outputs": [
    {
     "data": {
      "text/plain": [
       "array([ 968,  944,  281,  235,  957, 1096,  163,  665,  391,  786])"
      ]
     },
     "execution_count": 81,
     "metadata": {},
     "output_type": "execute_result"
    }
   ],
   "source": [
    "new_random_numbers = random_numbers\n",
    "new_random_numbers"
   ]
  },
  {
   "cell_type": "code",
   "execution_count": 84,
   "id": "678502b6-dca9-44c8-9e0d-99933042f6a6",
   "metadata": {},
   "outputs": [
    {
     "name": "stdout",
     "output_type": "stream",
     "text": [
      "[  10  944  281  235  957 1096  163  665  391  786]\n",
      "[  10  944  281  235  957 1096  163  665  391  786]\n"
     ]
    }
   ],
   "source": [
    "new_random_numbers[0]= 10\n",
    "print(new_random_numbers)\n",
    "print(random_numbers)"
   ]
  },
  {
   "cell_type": "code",
   "execution_count": 86,
   "id": "74684631-0360-436b-91c2-f9723048a4be",
   "metadata": {},
   "outputs": [
    {
     "name": "stdout",
     "output_type": "stream",
     "text": [
      "[  10  944  281  235  957 1096  163  665  391  786]\n",
      "[ 100  944  281  235  957 1096  163  665  391  786]\n"
     ]
    }
   ],
   "source": [
    "copy_rand_number = random_numbers.copy()\n",
    "copy_rand_number[0]= 100\n",
    "print(random_numbers)\n",
    "print(copy_rand_number)"
   ]
  },
  {
   "cell_type": "code",
   "execution_count": 88,
   "id": "1f9443c7-9417-4816-9399-bb4bd7feea01",
   "metadata": {},
   "outputs": [
    {
     "name": "stdout",
     "output_type": "stream",
     "text": [
      "orig [ 200  944  281  235  957 1096  163  665  391  786]\n",
      "view [ 200  944  281  235  957 1096  163  665  391  786]\n"
     ]
    }
   ],
   "source": [
    "view_random_number=random_numbers.view()\n",
    "view_random_number[0]=200\n",
    "print(\"orig\",random_numbers)\n",
    "print(\"view\",view_random_number)"
   ]
  },
  {
   "cell_type": "code",
   "execution_count": 90,
   "id": "bbd8ab1d-bb3c-4e6d-bb32-2c609519d8eb",
   "metadata": {},
   "outputs": [
    {
     "name": "stdout",
     "output_type": "stream",
     "text": [
      "orig None\n",
      "clone? None\n",
      "copy None\n",
      "view [ 200  944  281  235  957 1096  163  665  391  786]\n"
     ]
    }
   ],
   "source": [
    "\n",
    "print(\"orig\",random_numbers.base)\n",
    "print(\"clone?\",new_random_numbers.base)\n",
    "print(\"copy\",copy_rand_number.base)\n",
    "print(\"view\",view_random_number.base)"
   ]
  },
  {
   "cell_type": "markdown",
   "id": "346ec34a-2b78-4257-ac7d-33d41f6a8aa9",
   "metadata": {},
   "source": [
    "## Reshaping arrays"
   ]
  },
  {
   "cell_type": "code",
   "execution_count": 92,
   "id": "d77aacc4-4bcc-4377-9886-ff074dbeb5a8",
   "metadata": {},
   "outputs": [
    {
     "data": {
      "text/plain": [
       "array([ 1,  2,  3,  4,  5,  6,  7,  8,  9, 10, 11, 12])"
      ]
     },
     "execution_count": 92,
     "metadata": {},
     "output_type": "execute_result"
    }
   ],
   "source": [
    "first_arr = np.arange(1,13)\n",
    "first_arr"
   ]
  },
  {
   "cell_type": "code",
   "execution_count": 93,
   "id": "e13e0c02-f0fd-4f43-bc24-58015691aecf",
   "metadata": {},
   "outputs": [
    {
     "data": {
      "text/plain": [
       "array([[ 1,  2,  3,  4],\n",
       "       [ 5,  6,  7,  8],\n",
       "       [ 9, 10, 11, 12]])"
      ]
     },
     "execution_count": 93,
     "metadata": {},
     "output_type": "execute_result"
    }
   ],
   "source": [
    "second_arr = np.reshape(first_arr, (3,4))\n",
    "second_arr"
   ]
  },
  {
   "cell_type": "code",
   "execution_count": 95,
   "id": "4d561719-3d24-4a0a-95e1-03aa7af80e5e",
   "metadata": {},
   "outputs": [
    {
     "data": {
      "text/plain": [
       "array([[ 1,  2],\n",
       "       [ 3,  4],\n",
       "       [ 5,  6],\n",
       "       [ 7,  8],\n",
       "       [ 9, 10],\n",
       "       [11, 12]])"
      ]
     },
     "execution_count": 95,
     "metadata": {},
     "output_type": "execute_result"
    }
   ],
   "source": [
    "third_array=np.reshape(first_arr,(6,2))\n",
    "third_array"
   ]
  },
  {
   "cell_type": "code",
   "execution_count": 100,
   "id": "72f4bd90-1be8-4c39-a8cd-9f6abdb1464f",
   "metadata": {},
   "outputs": [
    {
     "data": {
      "text/plain": [
       "array([[[ 1],\n",
       "        [ 2],\n",
       "        [ 3],\n",
       "        [ 4]],\n",
       "\n",
       "       [[ 5],\n",
       "        [ 6],\n",
       "        [ 7],\n",
       "        [ 8]],\n",
       "\n",
       "       [[ 9],\n",
       "        [10],\n",
       "        [11],\n",
       "        [12]]])"
      ]
     },
     "execution_count": 100,
     "metadata": {},
     "output_type": "execute_result"
    }
   ],
   "source": [
    "fourth_array=np.reshape(first_arr,(3,4,1))\n",
    "fourth_array"
   ]
  },
  {
   "cell_type": "code",
   "execution_count": 101,
   "id": "371d0ff7-857b-448a-80ee-bd584173671c",
   "metadata": {},
   "outputs": [
    {
     "data": {
      "text/plain": [
       "array([ 1,  2,  3,  4,  5,  6,  7,  8,  9, 10, 11, 12])"
      ]
     },
     "execution_count": 101,
     "metadata": {},
     "output_type": "execute_result"
    }
   ],
   "source": [
    "fifth_array=np.reshape(fourth_array,-1)\n",
    "fifth_array"
   ]
  },
  {
   "cell_type": "code",
   "execution_count": 109,
   "id": "6b6e7833-482d-4085-8c34-353979127989",
   "metadata": {},
   "outputs": [
    {
     "name": "stdout",
     "output_type": "stream",
     "text": [
      "[ 1  2  3  4  5  6  7  8  9 10 11 12]\n",
      "None\n"
     ]
    }
   ],
   "source": [
    "sixth_array = fourth_array.flatten()  # copy\n",
    "print(sixth_array)\n",
    "print(sixth_array.base)"
   ]
  },
  {
   "cell_type": "code",
   "execution_count": 110,
   "id": "c8a9bd6d-42ad-4417-b7fd-ccd7fe0158e4",
   "metadata": {},
   "outputs": [
    {
     "name": "stdout",
     "output_type": "stream",
     "text": [
      "[ 1  2  3  4  5  6  7  8  9 10 11 12]\n",
      "[ 1  2  3  4  5  6  7  8  9 10 11 12]\n"
     ]
    }
   ],
   "source": [
    "seventh_array = fourth_array.ravel() # view\n",
    "print(seventh_array)\n",
    "print(seventh_array.base)"
   ]
  },
  {
   "cell_type": "code",
   "execution_count": 113,
   "id": "7fffe3d5-e484-433f-a621-5d8a122ba9dd",
   "metadata": {},
   "outputs": [
    {
     "name": "stdout",
     "output_type": "stream",
     "text": [
      "[[[20]\n",
      "  [ 2]\n",
      "  [ 3]\n",
      "  [ 4]]\n",
      "\n",
      " [[ 5]\n",
      "  [ 6]\n",
      "  [ 7]\n",
      "  [ 8]]\n",
      "\n",
      " [[ 9]\n",
      "  [10]\n",
      "  [11]\n",
      "  [12]]]\n",
      "[10  2  3  4  5  6  7  8  9 10 11 12]\n",
      "[20  2  3  4  5  6  7  8  9 10 11 12]\n"
     ]
    }
   ],
   "source": [
    "sixth_array[0]=10\n",
    "seventh_array[0]=20\n",
    "print(fourth_array)\n",
    "print(sixth_array) # copy\n",
    "print(seventh_array) # view"
   ]
  },
  {
   "cell_type": "markdown",
   "id": "7090b6e7-3c83-41b2-bbd6-d1bee068a4a6",
   "metadata": {},
   "source": [
    "## Indexing and Slicing"
   ]
  },
  {
   "cell_type": "code",
   "execution_count": 117,
   "id": "94743c2e-6b59-4e07-a060-50637baed395",
   "metadata": {},
   "outputs": [
    {
     "data": {
      "text/plain": [
       "array([10., 18., 26., 34., 42., 50.])"
      ]
     },
     "execution_count": 117,
     "metadata": {},
     "output_type": "execute_result"
    }
   ],
   "source": [
    "sample_array = np.linspace(10,50,6)\n",
    "sample_array"
   ]
  },
  {
   "cell_type": "code",
   "execution_count": 124,
   "id": "1d65e55c-0cba-4204-8619-7d9242a438eb",
   "metadata": {},
   "outputs": [
    {
     "data": {
      "text/plain": [
       "array([10., 18., 26.])"
      ]
     },
     "execution_count": 124,
     "metadata": {},
     "output_type": "execute_result"
    }
   ],
   "source": [
    "sample_array[0:3]"
   ]
  },
  {
   "cell_type": "code",
   "execution_count": 126,
   "id": "c4dab5f7-20cc-4362-bec4-9b2f14a410a8",
   "metadata": {},
   "outputs": [
    {
     "data": {
      "text/plain": [
       "array([42., 50.])"
      ]
     },
     "execution_count": 126,
     "metadata": {},
     "output_type": "execute_result"
    }
   ],
   "source": [
    "sample_array[4:]"
   ]
  },
  {
   "cell_type": "code",
   "execution_count": 127,
   "id": "09d1be50-8a38-4cff-ae9c-ad505b933133",
   "metadata": {},
   "outputs": [
    {
     "data": {
      "text/plain": [
       "array([26., 42.])"
      ]
     },
     "execution_count": 127,
     "metadata": {},
     "output_type": "execute_result"
    }
   ],
   "source": [
    "sample_array[2::2]"
   ]
  },
  {
   "cell_type": "code",
   "execution_count": 128,
   "id": "4079ef26-705d-4c73-bdb8-97b50c7b327b",
   "metadata": {},
   "outputs": [
    {
     "data": {
      "text/plain": [
       "array([10., 26.])"
      ]
     },
     "execution_count": 128,
     "metadata": {},
     "output_type": "execute_result"
    }
   ],
   "source": [
    "sample_array[:-2:2]"
   ]
  },
  {
   "cell_type": "code",
   "execution_count": 118,
   "id": "0a6be86e-8e3f-401c-91c3-60667567fc92",
   "metadata": {},
   "outputs": [
    {
     "data": {
      "text/plain": [
       "50.0"
      ]
     },
     "execution_count": 118,
     "metadata": {},
     "output_type": "execute_result"
    }
   ],
   "source": [
    "sample_array[-1]"
   ]
  },
  {
   "cell_type": "code",
   "execution_count": 120,
   "id": "def75b95-7783-4341-aafe-6ff6f255b18d",
   "metadata": {},
   "outputs": [
    {
     "data": {
      "text/plain": [
       "array([[[10.],\n",
       "        [18.]],\n",
       "\n",
       "       [[26.],\n",
       "        [34.]],\n",
       "\n",
       "       [[42.],\n",
       "        [50.]]])"
      ]
     },
     "execution_count": 120,
     "metadata": {},
     "output_type": "execute_result"
    }
   ],
   "source": [
    "sample_arra2 = np.reshape(sample_array,(3,2,1))\n",
    "sample_arra2"
   ]
  },
  {
   "cell_type": "code",
   "execution_count": 121,
   "id": "6ca88ad2-417f-4509-ba88-47a5e3665698",
   "metadata": {},
   "outputs": [
    {
     "data": {
      "text/plain": [
       "34.0"
      ]
     },
     "execution_count": 121,
     "metadata": {},
     "output_type": "execute_result"
    }
   ],
   "source": [
    "sample_arra2[1,-1,-1]"
   ]
  },
  {
   "cell_type": "code",
   "execution_count": 129,
   "id": "1fd91b6f-5fc4-42c8-8d9b-571ca0dd60af",
   "metadata": {
    "scrolled": true
   },
   "outputs": [
    {
     "data": {
      "text/plain": [
       "array([[10., 18.],\n",
       "       [26., 34.],\n",
       "       [42., 50.]])"
      ]
     },
     "execution_count": 129,
     "metadata": {},
     "output_type": "execute_result"
    }
   ],
   "source": [
    "sample_arra3 = np.reshape(sample_array,(3,2))\n",
    "sample_arra3"
   ]
  },
  {
   "cell_type": "code",
   "execution_count": 136,
   "id": "221dfca7-5553-41ff-bfa1-11db60481595",
   "metadata": {},
   "outputs": [
    {
     "data": {
      "text/plain": [
       "array([50.])"
      ]
     },
     "execution_count": 136,
     "metadata": {},
     "output_type": "execute_result"
    }
   ],
   "source": [
    "sample_arra3[2,1:]"
   ]
  },
  {
   "cell_type": "markdown",
   "id": "ae5d65dc-1bb4-4cb4-98dd-865b1865d71f",
   "metadata": {},
   "source": [
    "## Joining and splitting arrays"
   ]
  },
  {
   "cell_type": "markdown",
   "id": "6125d241-f750-4b33-a927-963abf18a342",
   "metadata": {},
   "source": [
    "#### Joining "
   ]
  },
  {
   "cell_type": "code",
   "execution_count": 153,
   "id": "be38f0a4-e43b-4919-af50-2c7596424ae6",
   "metadata": {},
   "outputs": [
    {
     "data": {
      "text/plain": [
       "array([ 1,  2,  3,  4,  5,  6,  7,  8,  9, 10, 11, 12, 13, 14, 15, 16, 17,\n",
       "       18, 19, 20])"
      ]
     },
     "execution_count": 153,
     "metadata": {},
     "output_type": "execute_result"
    }
   ],
   "source": [
    "fir_arr = np.arange(1,11)\n",
    "sec_arr = np.arange(11,21)\n",
    "np.concatenate((fir_arr,sec_arr))"
   ]
  },
  {
   "cell_type": "code",
   "execution_count": 162,
   "id": "338e7cfa-9438-4a34-8e12-18a73789971c",
   "metadata": {
    "scrolled": true
   },
   "outputs": [
    {
     "name": "stdout",
     "output_type": "stream",
     "text": [
      "[[ 1  2  3  4  5  6  7  8  9 10]\n",
      " [11 12 13 14 15 16 17 18 19 20]]\n",
      "\n",
      "[[21 22 23 24 25 26 27 28 29 30]\n",
      " [31 32 33 34 35 36 37 38 39 40]]\n"
     ]
    }
   ],
   "source": [
    "third_arr = np.concatenate((fir_arr,sec_arr))\n",
    "third_arr= np.reshape(third_arr,(2,10))\n",
    "print(third_arr)\n",
    "print()\n",
    "fourth_arr = np.array([np.arange(21,31),np.arange(31,41)])\n",
    "fourth_arr= np.reshape(fourth_arr,(2,10))\n",
    "print(fourth_arr)"
   ]
  },
  {
   "cell_type": "code",
   "execution_count": 163,
   "id": "92ae8d05-c6ff-4f22-aa5c-4fbee4786807",
   "metadata": {},
   "outputs": [
    {
     "data": {
      "text/plain": [
       "array([[ 1,  2,  3,  4,  5,  6,  7,  8,  9, 10],\n",
       "       [11, 12, 13, 14, 15, 16, 17, 18, 19, 20],\n",
       "       [21, 22, 23, 24, 25, 26, 27, 28, 29, 30],\n",
       "       [31, 32, 33, 34, 35, 36, 37, 38, 39, 40]])"
      ]
     },
     "execution_count": 163,
     "metadata": {},
     "output_type": "execute_result"
    }
   ],
   "source": [
    "np.concatenate((third_arr,fourth_arr),axis=0)"
   ]
  },
  {
   "cell_type": "code",
   "execution_count": 157,
   "id": "de69b3da-3150-4f81-9630-1783d00e3890",
   "metadata": {},
   "outputs": [
    {
     "data": {
      "text/plain": [
       "array([[ 1,  2,  3,  4,  5,  6,  7,  8,  9, 10, 21, 22, 23, 24, 25, 26,\n",
       "        27, 28, 29, 30],\n",
       "       [11, 12, 13, 14, 15, 16, 17, 18, 19, 20, 31, 32, 33, 34, 35, 36,\n",
       "        37, 38, 39, 40]])"
      ]
     },
     "execution_count": 157,
     "metadata": {},
     "output_type": "execute_result"
    }
   ],
   "source": [
    "np.concatenate((third_arr,fourth_arr),axis=1)"
   ]
  },
  {
   "cell_type": "code",
   "execution_count": 159,
   "id": "f5a5aae4-571c-4b4c-a831-cd83aea08318",
   "metadata": {
    "scrolled": true
   },
   "outputs": [
    {
     "data": {
      "text/plain": [
       "array([[[ 1,  2,  3,  4,  5,  6,  7,  8,  9, 10],\n",
       "        [11, 12, 13, 14, 15, 16, 17, 18, 19, 20]],\n",
       "\n",
       "       [[21, 22, 23, 24, 25, 26, 27, 28, 29, 30],\n",
       "        [31, 32, 33, 34, 35, 36, 37, 38, 39, 40]]])"
      ]
     },
     "execution_count": 159,
     "metadata": {},
     "output_type": "execute_result"
    }
   ],
   "source": [
    "np.stack((third_arr,fourth_arr))"
   ]
  },
  {
   "cell_type": "code",
   "execution_count": 160,
   "id": "237a8f9f-a6d6-446f-8ff5-55bc3585c39c",
   "metadata": {},
   "outputs": [
    {
     "data": {
      "text/plain": [
       "array([[ 1,  2,  3,  4,  5,  6,  7,  8,  9, 10, 21, 22, 23, 24, 25, 26,\n",
       "        27, 28, 29, 30],\n",
       "       [11, 12, 13, 14, 15, 16, 17, 18, 19, 20, 31, 32, 33, 34, 35, 36,\n",
       "        37, 38, 39, 40]])"
      ]
     },
     "execution_count": 160,
     "metadata": {},
     "output_type": "execute_result"
    }
   ],
   "source": [
    "np.hstack((third_arr,fourth_arr))"
   ]
  },
  {
   "cell_type": "code",
   "execution_count": 161,
   "id": "4966fbb4-85b5-4d12-8e08-8cdbc0e2caea",
   "metadata": {},
   "outputs": [
    {
     "data": {
      "text/plain": [
       "array([[ 1,  2,  3,  4,  5,  6,  7,  8,  9, 10],\n",
       "       [11, 12, 13, 14, 15, 16, 17, 18, 19, 20],\n",
       "       [21, 22, 23, 24, 25, 26, 27, 28, 29, 30],\n",
       "       [31, 32, 33, 34, 35, 36, 37, 38, 39, 40]])"
      ]
     },
     "execution_count": 161,
     "metadata": {},
     "output_type": "execute_result"
    }
   ],
   "source": [
    "np.vstack((third_arr,fourth_arr))"
   ]
  },
  {
   "cell_type": "markdown",
   "id": "5c5c24c4-4d57-4833-a42f-db1139132401",
   "metadata": {},
   "source": [
    "#### Splitting "
   ]
  },
  {
   "cell_type": "code",
   "execution_count": 165,
   "id": "8a6e7eab-4434-49c0-848f-0b9956e98f53",
   "metadata": {},
   "outputs": [],
   "source": [
    "array = np.arange(1,13)\n"
   ]
  },
  {
   "cell_type": "code",
   "execution_count": 171,
   "id": "608fa287-8bff-4d15-bcb2-63a11fb10477",
   "metadata": {},
   "outputs": [
    {
     "data": {
      "text/plain": [
       "[array([1, 2, 3]), array([4, 5, 6]), array([7, 8, 9]), array([10, 11, 12])]"
      ]
     },
     "execution_count": 171,
     "metadata": {},
     "output_type": "execute_result"
    }
   ],
   "source": [
    "np.array_split(array,4)"
   ]
  },
  {
   "cell_type": "code",
   "execution_count": 167,
   "id": "4d3fe63b-2e6b-4279-a116-570ef599ba9a",
   "metadata": {},
   "outputs": [
    {
     "data": {
      "text/plain": [
       "[array([1, 2]),\n",
       " array([3, 4]),\n",
       " array([5, 6]),\n",
       " array([7, 8]),\n",
       " array([9]),\n",
       " array([10]),\n",
       " array([11]),\n",
       " array([12])]"
      ]
     },
     "execution_count": 167,
     "metadata": {},
     "output_type": "execute_result"
    }
   ],
   "source": [
    "np.array_split(array,8)"
   ]
  },
  {
   "cell_type": "code",
   "execution_count": 177,
   "id": "f7f432b1-c8d0-4b20-8f0a-cdc8c7610820",
   "metadata": {},
   "outputs": [
    {
     "data": {
      "text/plain": [
       "[array([[1],\n",
       "        [6]]),\n",
       " array([[2],\n",
       "        [7]]),\n",
       " array([[3],\n",
       "        [8]]),\n",
       " array([[4],\n",
       "        [9]]),\n",
       " array([[ 5],\n",
       "        [10]])]"
      ]
     },
     "execution_count": 177,
     "metadata": {},
     "output_type": "execute_result"
    }
   ],
   "source": [
    "twoD_array = np.array([[1,2,3,4,5],[6,7,8,9,10]])\n",
    "twoD_array_split = np.hsplit(twoD_array,5)\n",
    "twoD_array_split"
   ]
  },
  {
   "cell_type": "code",
   "execution_count": 182,
   "id": "37a1ad5e-2606-43e9-83e0-25f470a03a40",
   "metadata": {},
   "outputs": [
    {
     "data": {
      "text/plain": [
       "array([6])"
      ]
     },
     "execution_count": 182,
     "metadata": {},
     "output_type": "execute_result"
    }
   ],
   "source": [
    "twoD_array_split[0][1]"
   ]
  },
  {
   "cell_type": "code",
   "execution_count": 184,
   "id": "fb3d94bf-28e7-4122-928e-e89ac69485d4",
   "metadata": {},
   "outputs": [
    {
     "data": {
      "text/plain": [
       "[array([[1, 2, 3, 4, 5]]), array([[ 6,  7,  8,  9, 10]])]"
      ]
     },
     "execution_count": 184,
     "metadata": {},
     "output_type": "execute_result"
    }
   ],
   "source": [
    "np.vsplit(twoD_array,2)"
   ]
  },
  {
   "cell_type": "markdown",
   "id": "d62fa1bc-b64e-4209-8d54-c87cf5fea45e",
   "metadata": {},
   "source": [
    "## Arithmetric Operations"
   ]
  },
  {
   "cell_type": "code",
   "execution_count": 2,
   "id": "94f81b9c-b2a1-44ba-bfa3-3f3254d61701",
   "metadata": {},
   "outputs": [
    {
     "name": "stdout",
     "output_type": "stream",
     "text": [
      "[ 1  2  3  4  5  6  7  8  9 10]\n",
      "[21 22 23 24 25 26 27 28 29 30]\n"
     ]
    }
   ],
   "source": [
    "a = np.arange(1,11)\n",
    "b = np.arange(21,31)\n",
    "\n",
    "print(a)\n",
    "print(b)"
   ]
  },
  {
   "cell_type": "code",
   "execution_count": 3,
   "id": "5aedfe18-6f23-43c1-b833-100bc2a312ff",
   "metadata": {},
   "outputs": [
    {
     "data": {
      "text/plain": [
       "array([22, 24, 26, 28, 30, 32, 34, 36, 38, 40])"
      ]
     },
     "execution_count": 3,
     "metadata": {},
     "output_type": "execute_result"
    }
   ],
   "source": [
    "a+b"
   ]
  },
  {
   "cell_type": "code",
   "execution_count": 4,
   "id": "0dd84a00-74da-433c-8ce4-470761618f2a",
   "metadata": {},
   "outputs": [
    {
     "data": {
      "text/plain": [
       "array([-20, -20, -20, -20, -20, -20, -20, -20, -20, -20])"
      ]
     },
     "execution_count": 4,
     "metadata": {},
     "output_type": "execute_result"
    }
   ],
   "source": [
    "a-b"
   ]
  },
  {
   "cell_type": "code",
   "execution_count": 5,
   "id": "b4215ed3-a111-4b22-a179-179d547dc1e3",
   "metadata": {},
   "outputs": [
    {
     "data": {
      "text/plain": [
       "array([ 21,  44,  69,  96, 125, 156, 189, 224, 261, 300])"
      ]
     },
     "execution_count": 5,
     "metadata": {},
     "output_type": "execute_result"
    }
   ],
   "source": [
    "a*b"
   ]
  },
  {
   "cell_type": "code",
   "execution_count": 6,
   "id": "3538a0c8-5887-4605-be8a-cd2a59d13ebf",
   "metadata": {},
   "outputs": [
    {
     "data": {
      "text/plain": [
       "array([0.04761905, 0.09090909, 0.13043478, 0.16666667, 0.2       ,\n",
       "       0.23076923, 0.25925926, 0.28571429, 0.31034483, 0.33333333])"
      ]
     },
     "execution_count": 6,
     "metadata": {},
     "output_type": "execute_result"
    }
   ],
   "source": [
    "a/b"
   ]
  },
  {
   "cell_type": "code",
   "execution_count": 7,
   "id": "2958c7df-64f3-4f81-a408-8659c2ace0a2",
   "metadata": {},
   "outputs": [
    {
     "data": {
      "text/plain": [
       "array([          1,     4194304,  -346101685,           0,   167814181,\n",
       "       -1543503872,    17998615,           0, -1635065239,  1073741824])"
      ]
     },
     "execution_count": 7,
     "metadata": {},
     "output_type": "execute_result"
    }
   ],
   "source": [
    "a**b"
   ]
  },
  {
   "cell_type": "code",
   "execution_count": 10,
   "id": "154fe561-5963-4234-95b0-eff00697ab4d",
   "metadata": {},
   "outputs": [
    {
     "data": {
      "text/plain": [
       "array([  1,   4,   9,  16,  25,  36,  49,  64,  81, 100])"
      ]
     },
     "execution_count": 10,
     "metadata": {},
     "output_type": "execute_result"
    }
   ],
   "source": [
    "a**2"
   ]
  },
  {
   "cell_type": "code",
   "execution_count": 11,
   "id": "eabdb0d2-de0b-402f-becc-b4c460cf98db",
   "metadata": {},
   "outputs": [
    {
     "data": {
      "text/plain": [
       "array([22, 24, 26, 28, 30, 32, 34, 36, 38, 40])"
      ]
     },
     "execution_count": 11,
     "metadata": {},
     "output_type": "execute_result"
    }
   ],
   "source": [
    "np.add(a,b)"
   ]
  },
  {
   "cell_type": "code",
   "execution_count": 12,
   "id": "ec500064-7b7b-4a8d-b4b1-206980723120",
   "metadata": {},
   "outputs": [
    {
     "data": {
      "text/plain": [
       "array([  1,   4,   9,  16,  25,  36,  49,  64,  81, 100], dtype=int32)"
      ]
     },
     "execution_count": 12,
     "metadata": {},
     "output_type": "execute_result"
    }
   ],
   "source": [
    "np.power(a,2)"
   ]
  },
  {
   "cell_type": "code",
   "execution_count": 13,
   "id": "64781b96-6029-4125-a5e1-17277df4d145",
   "metadata": {},
   "outputs": [
    {
     "data": {
      "text/plain": [
       "array([0, 0, 2, 0, 0, 2, 6, 4, 2, 0])"
      ]
     },
     "execution_count": 13,
     "metadata": {},
     "output_type": "execute_result"
    }
   ],
   "source": [
    "np.mod(b,a)"
   ]
  },
  {
   "cell_type": "code",
   "execution_count": 14,
   "id": "965df46f-aa66-4f64-a8ab-f44450837275",
   "metadata": {},
   "outputs": [
    {
     "data": {
      "text/plain": [
       "array([1.        , 1.41421356, 1.73205081, 2.        , 2.23606798,\n",
       "       2.44948974, 2.64575131, 2.82842712, 3.        , 3.16227766])"
      ]
     },
     "execution_count": 14,
     "metadata": {},
     "output_type": "execute_result"
    }
   ],
   "source": [
    "np.sqrt(a)"
   ]
  },
  {
   "cell_type": "markdown",
   "id": "a7116d33-85d2-4bd7-96cb-c18920f7e829",
   "metadata": {},
   "source": [
    "## Broadcasting"
   ]
  },
  {
   "cell_type": "code",
   "execution_count": 16,
   "id": "54d21c20-d78a-4660-a137-6886bc090679",
   "metadata": {},
   "outputs": [
    {
     "data": {
      "text/plain": [
       "array([[1, 2, 3],\n",
       "       [4, 5, 6],\n",
       "       [7, 8, 9]])"
      ]
     },
     "execution_count": 16,
     "metadata": {},
     "output_type": "execute_result"
    }
   ],
   "source": [
    "a = np.arange(1,10).reshape(3,3)\n",
    "a"
   ]
  },
  {
   "cell_type": "code",
   "execution_count": 17,
   "id": "c1402f84-4eb6-4745-aef8-8d156d75f2d7",
   "metadata": {},
   "outputs": [
    {
     "data": {
      "text/plain": [
       "array([1, 2, 3])"
      ]
     },
     "execution_count": 17,
     "metadata": {},
     "output_type": "execute_result"
    }
   ],
   "source": [
    "b =np.arange(1,4)\n",
    "b"
   ]
  },
  {
   "cell_type": "code",
   "execution_count": 18,
   "id": "88b08a10-c9b2-4287-917b-d1fb6fe2bd11",
   "metadata": {},
   "outputs": [
    {
     "data": {
      "text/plain": [
       "array([[ 2,  4,  6],\n",
       "       [ 5,  7,  9],\n",
       "       [ 8, 10, 12]])"
      ]
     },
     "execution_count": 18,
     "metadata": {},
     "output_type": "execute_result"
    }
   ],
   "source": [
    "a+b"
   ]
  },
  {
   "cell_type": "code",
   "execution_count": 20,
   "id": "99146202-ff0a-435b-8ee7-7636dea9eec0",
   "metadata": {},
   "outputs": [
    {
     "data": {
      "text/plain": [
       "array([1, 2])"
      ]
     },
     "execution_count": 20,
     "metadata": {},
     "output_type": "execute_result"
    }
   ],
   "source": [
    "c = np.arange(1,3)\n",
    "c"
   ]
  },
  {
   "cell_type": "code",
   "execution_count": 23,
   "id": "47bd5f59-88a6-4649-8df2-676df0a65105",
   "metadata": {},
   "outputs": [
    {
     "data": {
      "text/plain": [
       "array([[[ 0,  1,  2,  3],\n",
       "        [ 4,  5,  6,  7],\n",
       "        [ 8,  9, 10, 11]],\n",
       "\n",
       "       [[12, 13, 14, 15],\n",
       "        [16, 17, 18, 19],\n",
       "        [20, 21, 22, 23]]])"
      ]
     },
     "execution_count": 23,
     "metadata": {},
     "output_type": "execute_result"
    }
   ],
   "source": [
    "d = np.arange(24).reshape(2,3,4)\n",
    "d"
   ]
  },
  {
   "cell_type": "code",
   "execution_count": 24,
   "id": "289767f5-4e7c-4a8d-ae54-33f89409b311",
   "metadata": {},
   "outputs": [
    {
     "data": {
      "text/plain": [
       "array([0, 1, 2, 3])"
      ]
     },
     "execution_count": 24,
     "metadata": {},
     "output_type": "execute_result"
    }
   ],
   "source": [
    "e = np.arange(4)\n",
    "e"
   ]
  },
  {
   "cell_type": "code",
   "execution_count": 25,
   "id": "d1259a74-091f-40a3-bfa3-e799f1e14a30",
   "metadata": {},
   "outputs": [
    {
     "data": {
      "text/plain": [
       "array([[[ 0,  0,  0,  0],\n",
       "        [ 4,  4,  4,  4],\n",
       "        [ 8,  8,  8,  8]],\n",
       "\n",
       "       [[12, 12, 12, 12],\n",
       "        [16, 16, 16, 16],\n",
       "        [20, 20, 20, 20]]])"
      ]
     },
     "execution_count": 25,
     "metadata": {},
     "output_type": "execute_result"
    }
   ],
   "source": [
    "d-e"
   ]
  },
  {
   "cell_type": "markdown",
   "id": "199ce3fe-8d00-41e4-a68b-ff99a4dccc3b",
   "metadata": {},
   "source": [
    "## Aggregate function"
   ]
  },
  {
   "cell_type": "code",
   "execution_count": 27,
   "id": "5260cbbf-d049-4ffc-b4e3-e898023b93cf",
   "metadata": {},
   "outputs": [
    {
     "data": {
      "text/plain": [
       "array([ 10,  20,  30,  40,  50,  60,  70,  80,  90, 100])"
      ]
     },
     "execution_count": 27,
     "metadata": {},
     "output_type": "execute_result"
    }
   ],
   "source": [
    "first_arr = np.arange(10,110,10)\n",
    "first_arr"
   ]
  },
  {
   "cell_type": "code",
   "execution_count": 28,
   "id": "e19d418f-320a-48d3-b0fe-cacaa1319da9",
   "metadata": {},
   "outputs": [
    {
     "data": {
      "text/plain": [
       "550"
      ]
     },
     "execution_count": 28,
     "metadata": {},
     "output_type": "execute_result"
    }
   ],
   "source": [
    "first_arr.sum()"
   ]
  },
  {
   "cell_type": "code",
   "execution_count": 30,
   "id": "4df934b8-f075-4b84-83c9-ba508f1ec96d",
   "metadata": {},
   "outputs": [
    {
     "data": {
      "text/plain": [
       "array([[10, 20, 30],\n",
       "       [40, 50, 60],\n",
       "       [70, 80, 90]])"
      ]
     },
     "execution_count": 30,
     "metadata": {},
     "output_type": "execute_result"
    }
   ],
   "source": [
    "sec_arr= np.arange(10,100,10).reshape(3,3)\n",
    "sec_arr"
   ]
  },
  {
   "cell_type": "code",
   "execution_count": 34,
   "id": "0c47623e-75a7-414a-8b5f-ebf835a14ed5",
   "metadata": {},
   "outputs": [
    {
     "data": {
      "text/plain": [
       "array([120, 150, 180])"
      ]
     },
     "execution_count": 34,
     "metadata": {},
     "output_type": "execute_result"
    }
   ],
   "source": [
    "sec_arr.sum(axis=0) # row"
   ]
  },
  {
   "cell_type": "code",
   "execution_count": 33,
   "id": "a9167f4d-bc97-4bd4-bbd5-ccb40bd5b7c1",
   "metadata": {},
   "outputs": [
    {
     "data": {
      "text/plain": [
       "array([ 60, 150, 240])"
      ]
     },
     "execution_count": 33,
     "metadata": {},
     "output_type": "execute_result"
    }
   ],
   "source": [
    "sec_arr.sum(axis=1)# col"
   ]
  },
  {
   "cell_type": "code",
   "execution_count": 35,
   "id": "348f7c24-904a-49fb-ac42-7bd941880e74",
   "metadata": {},
   "outputs": [
    {
     "data": {
      "text/plain": [
       "array([ 28000,  80000, 162000])"
      ]
     },
     "execution_count": 35,
     "metadata": {},
     "output_type": "execute_result"
    }
   ],
   "source": [
    "sec_arr.prod(axis=0) # row"
   ]
  },
  {
   "cell_type": "code",
   "execution_count": 36,
   "id": "399436cf-968a-44af-8dd8-92f345b77c42",
   "metadata": {},
   "outputs": [
    {
     "data": {
      "text/plain": [
       "array([  6000, 120000, 504000])"
      ]
     },
     "execution_count": 36,
     "metadata": {},
     "output_type": "execute_result"
    }
   ],
   "source": [
    "sec_arr.prod(axis=1) # col"
   ]
  },
  {
   "cell_type": "code",
   "execution_count": 37,
   "id": "5a2d7818-06a1-426d-a1bd-46b5ab8c83e9",
   "metadata": {},
   "outputs": [
    {
     "data": {
      "text/plain": [
       "55.0"
      ]
     },
     "execution_count": 37,
     "metadata": {},
     "output_type": "execute_result"
    }
   ],
   "source": [
    "np.average(first_arr)"
   ]
  },
  {
   "cell_type": "code",
   "execution_count": 38,
   "id": "49d12b64-fe7c-4542-8588-8bda636023e6",
   "metadata": {},
   "outputs": [
    {
     "data": {
      "text/plain": [
       "10"
      ]
     },
     "execution_count": 38,
     "metadata": {},
     "output_type": "execute_result"
    }
   ],
   "source": [
    "np.min(first_arr)"
   ]
  },
  {
   "cell_type": "code",
   "execution_count": 39,
   "id": "8c2b3d38-5362-4d5a-85d0-22c7fa14cd11",
   "metadata": {},
   "outputs": [
    {
     "data": {
      "text/plain": [
       "100"
      ]
     },
     "execution_count": 39,
     "metadata": {},
     "output_type": "execute_result"
    }
   ],
   "source": [
    "np.max(first_arr)"
   ]
  },
  {
   "cell_type": "code",
   "execution_count": 43,
   "id": "edd0c0a0-1e26-4413-9373-317d2363379e",
   "metadata": {},
   "outputs": [
    {
     "data": {
      "text/plain": [
       "array([70, 80, 90])"
      ]
     },
     "execution_count": 43,
     "metadata": {},
     "output_type": "execute_result"
    }
   ],
   "source": [
    "np.max(sec_arr,axis=0)"
   ]
  },
  {
   "cell_type": "code",
   "execution_count": 44,
   "id": "baaa4f4d-676f-42d5-addf-bd3bd95b2b53",
   "metadata": {},
   "outputs": [
    {
     "data": {
      "text/plain": [
       "array([30, 60, 90])"
      ]
     },
     "execution_count": 44,
     "metadata": {},
     "output_type": "execute_result"
    }
   ],
   "source": [
    "np.max(sec_arr,axis=1)"
   ]
  },
  {
   "cell_type": "code",
   "execution_count": 45,
   "id": "24a3c86f-2048-465d-a941-f4d8501caaaf",
   "metadata": {},
   "outputs": [
    {
     "data": {
      "text/plain": [
       "55.0"
      ]
     },
     "execution_count": 45,
     "metadata": {},
     "output_type": "execute_result"
    }
   ],
   "source": [
    "np.mean(first_arr)"
   ]
  },
  {
   "cell_type": "code",
   "execution_count": 46,
   "id": "9f0ce94c-f5cc-4b32-bb8b-3f4ef71b700a",
   "metadata": {},
   "outputs": [
    {
     "data": {
      "text/plain": [
       "28.722813232690143"
      ]
     },
     "execution_count": 46,
     "metadata": {},
     "output_type": "execute_result"
    }
   ],
   "source": [
    "np.std(first_arr)"
   ]
  },
  {
   "cell_type": "markdown",
   "id": "1fe8ca03-2171-4749-ab6c-b475bc2532b6",
   "metadata": {},
   "source": [
    "## Distinct and counts"
   ]
  },
  {
   "cell_type": "code",
   "execution_count": 50,
   "id": "91932e1c-6b9a-42ae-8f7f-6df0224a5fed",
   "metadata": {},
   "outputs": [
    {
     "data": {
      "text/plain": [
       "array([1, 2, 3, 4, 8])"
      ]
     },
     "execution_count": 50,
     "metadata": {},
     "output_type": "execute_result"
    }
   ],
   "source": [
    "arr= np.array([[1,2,3,2],[2,3,2,4],[1,4,8,8],[1,2,3,2]])\n",
    "np.unique(arr)"
   ]
  },
  {
   "cell_type": "code",
   "execution_count": 52,
   "id": "aa2a219c-3c72-4ed5-9b7e-d5996ada0813",
   "metadata": {},
   "outputs": [
    {
     "data": {
      "text/plain": [
       "array([[1, 2, 3, 2],\n",
       "       [1, 4, 8, 8],\n",
       "       [2, 3, 2, 4]])"
      ]
     },
     "execution_count": 52,
     "metadata": {},
     "output_type": "execute_result"
    }
   ],
   "source": [
    "np.unique(arr,axis=0)"
   ]
  },
  {
   "cell_type": "code",
   "execution_count": 53,
   "id": "fe069844-78c1-47bd-8080-9d983fb827fa",
   "metadata": {},
   "outputs": [
    {
     "data": {
      "text/plain": [
       "array([[1, 2, 3],\n",
       "       [2, 4, 2],\n",
       "       [1, 8, 8],\n",
       "       [1, 2, 3]])"
      ]
     },
     "execution_count": 53,
     "metadata": {},
     "output_type": "execute_result"
    }
   ],
   "source": [
    "arr= np.array([[1,1,3,2],[2,2,2,4],[1,1,8,8],[1,1,3,2]])\n",
    "np.unique(arr,axis=1)"
   ]
  },
  {
   "cell_type": "code",
   "execution_count": 54,
   "id": "27ecf331-636f-446c-8fa7-b1f3a8f21970",
   "metadata": {},
   "outputs": [
    {
     "data": {
      "text/plain": [
       "(array([1, 2, 3, 4, 8]), array([ 0,  3,  2,  7, 10], dtype=int64))"
      ]
     },
     "execution_count": 54,
     "metadata": {},
     "output_type": "execute_result"
    }
   ],
   "source": [
    "np.unique(arr,return_index=True)"
   ]
  },
  {
   "cell_type": "code",
   "execution_count": 55,
   "id": "1c76b023-0eaf-40cc-a5af-5e1da079866b",
   "metadata": {},
   "outputs": [
    {
     "data": {
      "text/plain": [
       "(array([1, 2, 3, 4, 8]), array([6, 5, 2, 1, 2], dtype=int64))"
      ]
     },
     "execution_count": 55,
     "metadata": {},
     "output_type": "execute_result"
    }
   ],
   "source": [
    "np.unique(arr,return_counts=True)"
   ]
  },
  {
   "cell_type": "markdown",
   "id": "e9288135-da41-4b7e-8c71-38e54b3642db",
   "metadata": {},
   "source": [
    "## Transpose like operations"
   ]
  },
  {
   "cell_type": "code",
   "execution_count": 56,
   "id": "ab3d69ed-1605-4777-b6c2-9924c79bc827",
   "metadata": {},
   "outputs": [
    {
     "data": {
      "text/plain": [
       "array([[ 0,  1,  2,  3],\n",
       "       [ 4,  5,  6,  7],\n",
       "       [ 8,  9, 10, 11]])"
      ]
     },
     "execution_count": 56,
     "metadata": {},
     "output_type": "execute_result"
    }
   ],
   "source": [
    "first_2d = np.arange(12).reshape((3,4))\n",
    "first_2d"
   ]
  },
  {
   "cell_type": "code",
   "execution_count": 57,
   "id": "de358d7a-9d64-4812-9b83-76341b794a12",
   "metadata": {},
   "outputs": [
    {
     "data": {
      "text/plain": [
       "array([[ 0,  4,  8],\n",
       "       [ 1,  5,  9],\n",
       "       [ 2,  6, 10],\n",
       "       [ 3,  7, 11]])"
      ]
     },
     "execution_count": 57,
     "metadata": {},
     "output_type": "execute_result"
    }
   ],
   "source": [
    "np.transpose(first_2d)"
   ]
  },
  {
   "cell_type": "code",
   "execution_count": 59,
   "id": "20e228d8-b450-4898-a857-fd15a5007f80",
   "metadata": {},
   "outputs": [
    {
     "data": {
      "text/plain": [
       "array([[0, 1],\n",
       "       [2, 3],\n",
       "       [4, 5]])"
      ]
     },
     "execution_count": 59,
     "metadata": {},
     "output_type": "execute_result"
    }
   ],
   "source": [
    "sec_2d = np.arange(6).reshape(3,2)\n",
    "sec_2d"
   ]
  },
  {
   "cell_type": "code",
   "execution_count": 60,
   "id": "89a0288d-c812-444e-b27d-ab495821bad0",
   "metadata": {},
   "outputs": [
    {
     "data": {
      "text/plain": [
       "array([[0, 2, 4],\n",
       "       [1, 3, 5]])"
      ]
     },
     "execution_count": 60,
     "metadata": {},
     "output_type": "execute_result"
    }
   ],
   "source": [
    "np.transpose(sec_2d,(1,0))"
   ]
  },
  {
   "cell_type": "code",
   "execution_count": 61,
   "id": "57e6a415-bf80-452b-87e8-f4e76b7b0605",
   "metadata": {},
   "outputs": [
    {
     "data": {
      "text/plain": [
       "array([[0, 2, 4],\n",
       "       [1, 3, 5]])"
      ]
     },
     "execution_count": 61,
     "metadata": {},
     "output_type": "execute_result"
    }
   ],
   "source": [
    "np.transpose(sec_2d)"
   ]
  },
  {
   "cell_type": "code",
   "execution_count": 62,
   "id": "8c53ecca-517e-4f1a-b58e-3131c7fefcee",
   "metadata": {},
   "outputs": [
    {
     "data": {
      "text/plain": [
       "array([[[ 0,  1,  2,  3],\n",
       "        [ 4,  5,  6,  7],\n",
       "        [ 8,  9, 10, 11]],\n",
       "\n",
       "       [[12, 13, 14, 15],\n",
       "        [16, 17, 18, 19],\n",
       "        [20, 21, 22, 23]]])"
      ]
     },
     "execution_count": 62,
     "metadata": {},
     "output_type": "execute_result"
    }
   ],
   "source": [
    "third_2d = np.arange(24).reshape(2,3,4)\n",
    "third_2d"
   ]
  },
  {
   "cell_type": "code",
   "execution_count": 63,
   "id": "155c71ad-44d6-4df5-b680-4bcc7b6a046c",
   "metadata": {},
   "outputs": [
    {
     "data": {
      "text/plain": [
       "array([[[ 0, 12],\n",
       "        [ 1, 13],\n",
       "        [ 2, 14],\n",
       "        [ 3, 15]],\n",
       "\n",
       "       [[ 4, 16],\n",
       "        [ 5, 17],\n",
       "        [ 6, 18],\n",
       "        [ 7, 19]],\n",
       "\n",
       "       [[ 8, 20],\n",
       "        [ 9, 21],\n",
       "        [10, 22],\n",
       "        [11, 23]]])"
      ]
     },
     "execution_count": 63,
     "metadata": {},
     "output_type": "execute_result"
    }
   ],
   "source": [
    "np.moveaxis(third_2d,0,-1)"
   ]
  },
  {
   "cell_type": "code",
   "execution_count": 65,
   "id": "f7539d8a-32fa-4837-bf12-d9750ead6c15",
   "metadata": {},
   "outputs": [
    {
     "data": {
      "text/plain": [
       "array([[[ 0, 12],\n",
       "        [ 4, 16],\n",
       "        [ 8, 20]],\n",
       "\n",
       "       [[ 1, 13],\n",
       "        [ 5, 17],\n",
       "        [ 9, 21]],\n",
       "\n",
       "       [[ 2, 14],\n",
       "        [ 6, 18],\n",
       "        [10, 22]],\n",
       "\n",
       "       [[ 3, 15],\n",
       "        [ 7, 19],\n",
       "        [11, 23]]])"
      ]
     },
     "execution_count": 65,
     "metadata": {},
     "output_type": "execute_result"
    }
   ],
   "source": [
    "np.swapaxes(third_2d,0,2)"
   ]
  },
  {
   "cell_type": "markdown",
   "id": "f75c9176-599a-4892-bc40-40971b41c499",
   "metadata": {},
   "source": [
    "## Reversing array"
   ]
  },
  {
   "cell_type": "code",
   "execution_count": 68,
   "id": "ca56f6de-3285-425f-bfb0-15373c0765bc",
   "metadata": {},
   "outputs": [
    {
     "data": {
      "text/plain": [
       "array([[1, 1, 3, 2],\n",
       "       [2, 2, 2, 4],\n",
       "       [1, 1, 8, 8],\n",
       "       [1, 1, 3, 2]])"
      ]
     },
     "execution_count": 68,
     "metadata": {},
     "output_type": "execute_result"
    }
   ],
   "source": [
    "arr"
   ]
  },
  {
   "cell_type": "code",
   "execution_count": 69,
   "id": "a29cfb42-ff4a-4650-8ab7-e83b1413c109",
   "metadata": {},
   "outputs": [
    {
     "data": {
      "text/plain": [
       "array([[2, 3, 1, 1],\n",
       "       [8, 8, 1, 1],\n",
       "       [4, 2, 2, 2],\n",
       "       [2, 3, 1, 1]])"
      ]
     },
     "execution_count": 69,
     "metadata": {},
     "output_type": "execute_result"
    }
   ],
   "source": [
    "np.flip(arr)"
   ]
  },
  {
   "cell_type": "code",
   "execution_count": 70,
   "id": "d521c983-439f-4696-8fa8-d780a767271b",
   "metadata": {},
   "outputs": [
    {
     "data": {
      "text/plain": [
       "array([[2, 3, 1, 1],\n",
       "       [4, 2, 2, 2],\n",
       "       [8, 8, 1, 1],\n",
       "       [2, 3, 1, 1]])"
      ]
     },
     "execution_count": 70,
     "metadata": {},
     "output_type": "execute_result"
    }
   ],
   "source": [
    "np.flip(arr,1)"
   ]
  },
  {
   "cell_type": "code",
   "execution_count": null,
   "id": "522c6b99-b1a2-414a-9d68-0f54891a89db",
   "metadata": {},
   "outputs": [],
   "source": []
  }
 ],
 "metadata": {
  "kernelspec": {
   "display_name": "Python 3 (ipykernel)",
   "language": "python",
   "name": "python3"
  },
  "language_info": {
   "codemirror_mode": {
    "name": "ipython",
    "version": 3
   },
   "file_extension": ".py",
   "mimetype": "text/x-python",
   "name": "python",
   "nbconvert_exporter": "python",
   "pygments_lexer": "ipython3",
   "version": "3.10.9"
  }
 },
 "nbformat": 4,
 "nbformat_minor": 5
}
